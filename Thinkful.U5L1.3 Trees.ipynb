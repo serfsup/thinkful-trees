{
 "cells": [
  {
   "cell_type": "markdown",
   "metadata": {},
   "source": [
    "# Trees\n",
    "\n",
    "Trees\n",
    "The last data structure we’ll cover in this lesson is the tree. Trees are a bit different than the data structures we’ve seen thus far, but present a useful way for storing information that has either a hierarchical structure or that needs to be rapidly searchable. The most distinguishing trait of trees, however, is their sheer flexibility. We’ll explain what we mean below.\n",
    "\n",
    "## What is a tree?\n",
    "Here we’re going to focus on the most common variety of tree, the binary tree. We'll use that example to go over the vocabulary of trees.\n",
    "\n",
    "All trees are a set of nodes connected in a hierarchy. Each node is a value. That node can connect to nodes below it, which are called its children. The node linked above it, should it exist, is called a parent. The top node is called the root. If the node has no children it’s called a leaf. Every tree is a combination or permutation of these elements.\n",
    "\n",
    "Let’s look at a simple tree and review those definitions, because they’ll be relatively fundamental to what’s to follow and we’ll rely on them whenever we talk about trees. Also, while they’re similar to how we’ve talked about decision trees as a model, we cannot conflate the two as the terms will vary and have sometimes subtle differences in meaning.\n"
   ]
  },
  {
   "cell_type": "markdown",
   "metadata": {},
   "source": [
    "                                    A\n",
    "                                   / \\\n",
    "                                  B   C\n",
    "                                 / \\ / \\\n",
    "                                D  E F  G\n",
    "                                \n",
    "\n",
    "```# Establish the initial root node and children\n",
    "root = Node('A')\n",
    "root.left = Node('B')\n",
    "root.right = Node('C')```\n",
    "\n",
    "```# Add the appropriate children for 'B' and 'C'\n",
    "root.left.left = Node('D')\n",
    "root.left.right = Node('E')\n",
    "root.right.left = Node('F')\n",
    "root.right.right = Node('G')```\n"
   ]
  },
  {
   "cell_type": "markdown",
   "metadata": {},
   "source": [
    "So, here A is our root. B and C are children of A. A is therefore a parent of B and a parent of C. B, in turn, is a parent of D and E, while C is a parent of F and G. D, E, F, and G are our leaves.\n",
    "\n",
    "A tree is binary if each non-leaf node has no more than two children. A tree where all parent nodes have two children, like the one above, is called a full binary tree (the leaves don't all have to be in pairs and it can still be binary). This can even more specifically be called a perfect binary tree, since it is a complete tree with all leaves on the same level.\n",
    "\n",
    "## A simple python implementation\n",
    "So how do we make a binary tree of our own?\n",
    "\n",
    "We can do it in two steps. First we must create a node class.\n"
   ]
  },
  {
   "cell_type": "markdown",
   "metadata": {},
   "source": [
    "```class Node:\n",
    "    def __init__(self, val):\n",
    "        self.left = None\n",
    "        self.right = None\n",
    "        self.val = val```\n",
    "        "
   ]
  },
  {
   "cell_type": "markdown",
   "metadata": {},
   "source": [
    "What this has done is create the framework for nodes. A node will take a value, which gives us the value at that point. It also lets us establish a left and right value, the two children of this node. To create a binary tree, we simply populate those children with their own nodes.\n",
    "\n",
    "So to reconstruct the tree from above we’d simply do this:"
   ]
  },
  {
   "cell_type": "markdown",
   "metadata": {},
   "source": [
    "```# Establish the initial root node and children\n",
    "root = Node('A')\n",
    "root.left = Node('B')\n",
    "root.right = Node('C')```\n",
    "\n",
    "```# Add the appropriate children for 'B' and 'C'\n",
    "root.left.left = Node('D')\n",
    "root.left.right = Node('E')\n",
    "root.right.left = Node('F')\n",
    "root.right.right = Node('G')```"
   ]
  },
  {
   "cell_type": "markdown",
   "metadata": {},
   "source": [
    "And there you have it. We’ve now successfully implemented our example tree in Python. Note that this tree can easily grow by adding further children to leaf nodes, an important feature of trees that can be valuable if you need your tree to dynamically grow and prune.\n",
    "\n",
    "## Flexibility and Use Cases\n",
    "Now, one of the main features of trees as a data structure should be clear here. For arrays and linked lists there was a pretty clear order to things, and that order was very clearly specified in building the list. That order also meant a rigidity.\n",
    "\n",
    "Trees, however, are much more flexible. You can put data into them in a variety of different ways, leading to a variety of differently shaped trees. Trees can have three children per node. They could increase as you move down from node to children. They could do almost anything you could imagine in that structure of nodes and children. Now, naturally, some will be more suited to certain data sets than others, and efficiencies of various operations will likewise vary, but the sheer flexibility is a key advantage.\n",
    "\n",
    "So what are these kinds of trees good for? The most obvious answer is hierarchical data. If you think of your data in layers, then trees can represent that. Academic courses (broken down into department, level, and then course) are a classic example. Machine learning models (broken down as supervised/unsupervised, then by class, then down to specific kinds of implementations) could also work.\n",
    "\n",
    "## Traversing a Tree\n",
    "Traversing a tree means seeing the value of all of the nodes in a trees and discerning its structure. If you are simply given a tree you have to traverse it to know what its structure is and values are. This is another point where trees offer serious flexibility and a great deal of choice for the user. For an array or a linked list, there is a single way to best read the data (though you could argue arrays could also be read backwards). Trees have many many more options.\n",
    "\n",
    "The simplest way is probably breadth first. In breadth first you try to explore the full breadth of a layer, one layer at a time starting from the root. For our example this would look like:\n",
    "\n",
    "A, B, C, D, E, F, G\n",
    "\n",
    "You tend to favor starting on the left for all traversal algorithms.\n",
    "\n",
    "You can also read a tree in a preorder fashion. This moves all the way through the left side of the tree and then moves back one layer at a time to move to the right before then proceeding down the left side of the tree. To further explain, this would read our tree as:\n",
    "\n",
    "A, B, D, E, C, F, G\n",
    "\n",
    "This is called a depth first traversal, since it first aims to find the depth of a tree, in direct contrast to the breadth first method outlined previously.\n",
    "\n",
    "## Binary Heaps\n",
    "Binary Heaps are a particular variety of binary tree. They have two defining features. Firstly, the must be complete binary trees. Second the values within the heap either always increase or always decrease as you move from layer to layer. This means every parent must either be greater or less than all children (this property must hold for the whole tree). A minimum binary heap sees the parent as always less than the children, a maximum always greater than.\n",
    "\n",
    "Let’s look at an example.\n"
   ]
  },
  {
   "cell_type": "markdown",
   "metadata": {},
   "source": [
    "                                        10\n",
    "                                       /  \\\n",
    "                                      7    9\n",
    "                                     / \\  / \\\n",
    "                                    1  5  3  8"
   ]
  },
  {
   "cell_type": "markdown",
   "metadata": {},
   "source": [
    "Here we have a maximum binary heap. Each parent is greater than its subsequent children. Now, obviously, to have this greater than or less than property the heap has to be used to store numeric data.\n",
    "\n",
    "Why do this? Well, this gives us some advantages in searching for data. For instance, when we look to the second layer, we know the only place an 8 could be is as the child of a 9. We gain that information without having to look through the children of 7. Data scientists will want to use this for times when they want quickly find and use subsets of a data set, so the tree will need to have the logic the data scientist can use.\n",
    "\n",
    "You can see a broader Python implementation of the binary heap here.\n",
    "\n",
    "DRILL:\n",
    "\n",
    "Implement a binary tree, which is filled with 15 pieces of random data. Your job is to then write a program to traverse the tree using a breadth first traversal. If you want additional practice, try other forms of traversal."
   ]
  },
  {
   "cell_type": "code",
   "execution_count": 1,
   "metadata": {
    "ExecuteTime": {
     "end_time": "2019-07-15T13:54:45.734873Z",
     "start_time": "2019-07-15T13:54:45.714977Z"
    }
   },
   "outputs": [
    {
     "name": "stdout",
     "output_type": "stream",
     "text": [
      "[57, 32, 98, 11, 76, 75, 95, 72, 32, 80, 51, 68, 32, 78, 53]\n",
      "[57, 32, 98, 11, 76, 75, 95, 72, 32, 80, 51, 68, 32, 78, 53]\n",
      "[11, 32, 32, 32, 51, 53, 57, 68, 72, 75, 76, 78, 80, 95, 98]\n"
     ]
    }
   ],
   "source": [
    "from random import randint\n",
    "\n",
    "# Create a node class.\n",
    "class Node:\n",
    "    def __init__(self, val):\n",
    "        self.left = None\n",
    "        self.right = None\n",
    "        self.val = val\n",
    "\n",
    "# Establish initial root node and children.\n",
    "root = Node('A')\n",
    "root.left = Node('B')\n",
    "root.right = Node('C')\n",
    "\n",
    "\n",
    "# Add children for 'B' and 'C'.\n",
    "root.left.left = Node('D')\n",
    "root.left.right = Node('E')\n",
    "root.right.left = Node('F')\n",
    "root.right.right = Node('G')\n",
    "\n",
    "# Add children for 'D', 'E', 'F', and 'G'.\n",
    "root.left.left.left = Node('H')\n",
    "root.left.left.right = Node('I')\n",
    "root.left.right.left = Node('J')\n",
    "root.left.right.right = Node('K')\n",
    "root.right.left.left = Node('L')\n",
    "root.right.left.right = Node('M')\n",
    "root.right.right.left = Node('N')\n",
    "root.right.right.right = Node('O')       \n",
    "        \n",
    "nodes = ['A', 'B', 'C', 'D', 'E', 'F', 'G', 'H', \n",
    "         'I', 'J', 'K', 'L', 'M', 'N', 'O']\n",
    "\n",
    "vals = []\n",
    "\n",
    "for i in range(15):\n",
    "    vals.append(randint(1, 100))\n",
    "print(vals)\n",
    "\n",
    "nodes = vals\n",
    "print(nodes)\n",
    "\n",
    "nodes.sort()\n",
    "print(nodes)\n"
   ]
  },
  {
   "cell_type": "markdown",
   "metadata": {},
   "source": [
    "This code will look something like the following:\n",
    "\n",
    "                                    A\n",
    "                                  /   \\\n",
    "                                B       C\n",
    "                               / \\     / \\ \n",
    "                              D   E   F   G\n",
    "                             / \\ / \\ / \\ / \\\n",
    "                            H  I J K L M N  O\n",
    "                            "
   ]
  },
  {
   "cell_type": "code",
   "execution_count": 2,
   "metadata": {
    "ExecuteTime": {
     "end_time": "2019-07-15T14:02:39.974506Z",
     "start_time": "2019-07-15T14:02:39.964184Z"
    }
   },
   "outputs": [],
   "source": [
    "# Assign random values to each value for node.\n",
    "root.val = 98\n",
    "root.left.val = 95\n",
    "root.right.val = 80\n",
    "root.left.left.val = 78\n",
    "root.left.right.val = 76\n",
    "root.right.left.val = 75\n",
    "root.right.right.val = 72\n",
    "root.left.left.left.val = 68\n",
    "root.left.left.right.val = 57\n",
    "root.left.right.left.val = 53\n",
    "root.left.right.right.val = 51\n",
    "root.right.left.left.val = 32\n",
    "root.right.left.right.val = 32\n",
    "root.right.right.left.val = 32\n",
    "root.right.right.right.val = 1\n"
   ]
  },
  {
   "cell_type": "code",
   "execution_count": 4,
   "metadata": {
    "ExecuteTime": {
     "end_time": "2019-07-15T14:16:11.301528Z",
     "start_time": "2019-07-15T14:16:11.288595Z"
    }
   },
   "outputs": [
    {
     "name": "stdout",
     "output_type": "stream",
     "text": [
      "98\n",
      "[<__main__.Node object at 0x108f66c50>]\n",
      "95\n",
      "80\n",
      "[<__main__.Node object at 0x108f66c18>, <__main__.Node object at 0x108f66d68>]\n",
      "78\n",
      "76\n",
      "75\n",
      "72\n",
      "[<__main__.Node object at 0x108f66d30>, <__main__.Node object at 0x108f66cc0>, <__main__.Node object at 0x108f66c88>, <__main__.Node object at 0x108f66da0>]\n",
      "68\n",
      "57\n",
      "53\n",
      "51\n",
      "32\n",
      "32\n",
      "32\n",
      "1\n",
      "[<__main__.Node object at 0x108f66e10>, <__main__.Node object at 0x108f66e48>, <__main__.Node object at 0x108f66e80>, <__main__.Node object at 0x108f66eb8>, <__main__.Node object at 0x108f66ef0>, <__main__.Node object at 0x108f66f28>, <__main__.Node object at 0x108f66f60>, <__main__.Node object at 0x108f66f98>]\n"
     ]
    }
   ],
   "source": [
    "# Traverse the tree.\n",
    "def traverse(root_node):\n",
    "    this_level = [root_node]\n",
    "    while this_level:\n",
    "        next_level = list()\n",
    "        for n in this_level:\n",
    "            print(n.val)\n",
    "            if n.left: next_level.append(n.left)\n",
    "            if n.right: next_level.append(n.right)\n",
    "        print(this_level)\n",
    "        this_level = next_level\n",
    " \n",
    "traverse(root)\n"
   ]
  },
  {
   "cell_type": "code",
   "execution_count": null,
   "metadata": {},
   "outputs": [],
   "source": []
  }
 ],
 "metadata": {
  "kernelspec": {
   "display_name": "Python 3",
   "language": "python",
   "name": "python3"
  },
  "language_info": {
   "codemirror_mode": {
    "name": "ipython",
    "version": 3
   },
   "file_extension": ".py",
   "mimetype": "text/x-python",
   "name": "python",
   "nbconvert_exporter": "python",
   "pygments_lexer": "ipython3",
   "version": "3.7.3"
  }
 },
 "nbformat": 4,
 "nbformat_minor": 2
}
